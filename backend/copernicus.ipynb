{
 "cells": [
  {
   "cell_type": "code",
   "execution_count": 1,
   "id": "fa65f1f3",
   "metadata": {},
   "outputs": [
    {
     "data": {
      "text/html": [
       "Visit <a href=\"https://identity.dataspace.copernicus.eu/auth/realms/CDSE/device?user_code=GSER-KGSL\" title=\"Authenticate at https://identity.dataspace.copernicus.eu/auth/realms/CDSE/device?user_code=GSER-KGSL\" target=\"_blank\" rel=\"noopener noreferrer\">https://identity.dataspace.copernicus.eu/auth/realms/CDSE/device?user_code=GSER-KGSL</a> <a href=\"#\" onclick=\"navigator.clipboard.writeText('https://identity.dataspace.copernicus.eu/auth/realms/CDSE/device?user_code=GSER-KGSL');return false;\" title=\"Copy authentication URL to clipboard\">&#128203;</a> to authenticate."
      ]
     },
     "metadata": {},
     "output_type": "display_data"
    },
    {
     "data": {
      "text/html": [
       "✅ Authorized successfully"
      ]
     },
     "metadata": {},
     "output_type": "display_data"
    },
    {
     "name": "stdout",
     "output_type": "stream",
     "text": [
      "Authenticated using device code flow.\n"
     ]
    },
    {
     "data": {
      "text/plain": [
       "<Connection to 'https://openeo.dataspace.copernicus.eu/openeo/1.2/' with OidcBearerAuth>"
      ]
     },
     "execution_count": 1,
     "metadata": {},
     "output_type": "execute_result"
    }
   ],
   "source": [
    "import openeo\n",
    "\n",
    "connection = openeo.connect(url='openeo.dataspace.copernicus.eu')\n",
    "\n",
    "connection.authenticate_oidc()"
   ]
  },
  {
   "cell_type": "code",
   "execution_count": 5,
   "id": "ebd50e7b",
   "metadata": {},
   "outputs": [
    {
     "data": {
      "text/html": [
       "Visit <a href=\"https://aai.egi.eu/device?user_code=YZAZ-YORS\" title=\"Authenticate at https://aai.egi.eu/device?user_code=YZAZ-YORS\" target=\"_blank\" rel=\"noopener noreferrer\">https://aai.egi.eu/device?user_code=YZAZ-YORS</a> <a href=\"#\" onclick=\"navigator.clipboard.writeText('https://aai.egi.eu/device?user_code=YZAZ-YORS');return false;\" title=\"Copy authentication URL to clipboard\">&#128203;</a> to authenticate."
      ]
     },
     "metadata": {},
     "output_type": "display_data"
    },
    {
     "data": {
      "text/html": [
       "✅ Authorized successfully"
      ]
     },
     "metadata": {},
     "output_type": "display_data"
    },
    {
     "name": "stdout",
     "output_type": "stream",
     "text": [
      "Authenticated using device code flow.\n"
     ]
    },
    {
     "ename": "OpenEoApiError",
     "evalue": "[404] CollectionNotFound: Collection 'MSWX_3H' does not exist. (ref: r-2505180736024b53926a410bc3bf9428)",
     "output_type": "error",
     "traceback": [
      "\u001b[31m---------------------------------------------------------------------------\u001b[39m",
      "\u001b[31mOpenEoApiError\u001b[39m                            Traceback (most recent call last)",
      "\u001b[36mCell\u001b[39m\u001b[36m \u001b[39m\u001b[32mIn[5]\u001b[39m\u001b[32m, line 12\u001b[39m\n\u001b[32m      9\u001b[39m start, end = \u001b[33m\"\u001b[39m\u001b[33m2024-09-01\u001b[39m\u001b[33m\"\u001b[39m, \u001b[33m\"\u001b[39m\u001b[33m2024-10-01\u001b[39m\u001b[33m\"\u001b[39m\n\u001b[32m     11\u001b[39m \u001b[38;5;66;03m# 1) 3-hourly precipitation cube (MSWX)\u001b[39;00m\n\u001b[32m---> \u001b[39m\u001b[32m12\u001b[39m pr = \u001b[43mconn\u001b[49m\u001b[43m.\u001b[49m\u001b[43mload_collection\u001b[49m\u001b[43m(\u001b[49m\n\u001b[32m     13\u001b[39m \u001b[43m        \u001b[49m\u001b[33;43m\"\u001b[39;49m\u001b[33;43mMSWX_3H\u001b[39;49m\u001b[33;43m\"\u001b[39;49m\u001b[43m,\u001b[49m\n\u001b[32m     14\u001b[39m \u001b[43m        \u001b[49m\u001b[43mspatial_extent\u001b[49m\u001b[43m=\u001b[49m\u001b[43mbbox\u001b[49m\u001b[43m,\u001b[49m\n\u001b[32m     15\u001b[39m \u001b[43m        \u001b[49m\u001b[43mtemporal_extent\u001b[49m\u001b[43m=\u001b[49m\u001b[43m[\u001b[49m\u001b[43mstart\u001b[49m\u001b[43m,\u001b[49m\u001b[43m \u001b[49m\u001b[43mend\u001b[49m\u001b[43m]\u001b[49m\u001b[43m,\u001b[49m\n\u001b[32m     16\u001b[39m \u001b[43m        \u001b[49m\u001b[43mbands\u001b[49m\u001b[43m=\u001b[49m\u001b[43m[\u001b[49m\u001b[33;43m\"\u001b[39;49m\u001b[33;43mprecipitation\u001b[39;49m\u001b[33;43m\"\u001b[39;49m\u001b[43m]\u001b[49m\n\u001b[32m     17\u001b[39m \u001b[43m)\u001b[49m\n\u001b[32m     19\u001b[39m \u001b[38;5;66;03m# aggregate to daily totals\u001b[39;00m\n\u001b[32m     20\u001b[39m daily_pr = pr.aggregate_temporal_period(\u001b[33m\"\u001b[39m\u001b[33mday\u001b[39m\u001b[33m\"\u001b[39m, reducer=\u001b[38;5;28msum\u001b[39m)\n",
      "\u001b[36mFile \u001b[39m\u001b[32mc:\\Users\\memor\\Desktop\\my_projects\\cassini_hackathon\\venv\\Lib\\site-packages\\openeo\\rest\\connection.py:1150\u001b[39m, in \u001b[36mConnection.load_collection\u001b[39m\u001b[34m(self, collection_id, spatial_extent, temporal_extent, bands, properties, max_cloud_cover, fetch_metadata)\u001b[39m\n\u001b[32m   1101\u001b[39m \u001b[38;5;129m@openeo_process\u001b[39m\n\u001b[32m   1102\u001b[39m \u001b[38;5;28;01mdef\u001b[39;00m\u001b[38;5;250m \u001b[39m\u001b[34mload_collection\u001b[39m(\n\u001b[32m   1103\u001b[39m     \u001b[38;5;28mself\u001b[39m,\n\u001b[32m   (...)\u001b[39m\u001b[32m   1112\u001b[39m     fetch_metadata: \u001b[38;5;28mbool\u001b[39m = \u001b[38;5;28;01mTrue\u001b[39;00m,\n\u001b[32m   1113\u001b[39m ) -> DataCube:\n\u001b[32m   1114\u001b[39m \u001b[38;5;250m    \u001b[39m\u001b[33;03m\"\"\"\u001b[39;00m\n\u001b[32m   1115\u001b[39m \u001b[33;03m    Load a DataCube by collection id.\u001b[39;00m\n\u001b[32m   1116\u001b[39m \n\u001b[32m   (...)\u001b[39m\u001b[32m   1148\u001b[39m \u001b[33;03m        Argument ``spatial_extent``: add support for passing a Shapely geometry or a local path to a GeoJSON file.\u001b[39;00m\n\u001b[32m   1149\u001b[39m \u001b[33;03m    \"\"\"\u001b[39;00m\n\u001b[32m-> \u001b[39m\u001b[32m1150\u001b[39m     \u001b[38;5;28;01mreturn\u001b[39;00m \u001b[43mDataCube\u001b[49m\u001b[43m.\u001b[49m\u001b[43mload_collection\u001b[49m\u001b[43m(\u001b[49m\n\u001b[32m   1151\u001b[39m \u001b[43m        \u001b[49m\u001b[43mcollection_id\u001b[49m\u001b[43m=\u001b[49m\u001b[43mcollection_id\u001b[49m\u001b[43m,\u001b[49m\n\u001b[32m   1152\u001b[39m \u001b[43m        \u001b[49m\u001b[43mconnection\u001b[49m\u001b[43m=\u001b[49m\u001b[38;5;28;43mself\u001b[39;49m\u001b[43m,\u001b[49m\n\u001b[32m   1153\u001b[39m \u001b[43m        \u001b[49m\u001b[43mspatial_extent\u001b[49m\u001b[43m=\u001b[49m\u001b[43mspatial_extent\u001b[49m\u001b[43m,\u001b[49m\n\u001b[32m   1154\u001b[39m \u001b[43m        \u001b[49m\u001b[43mtemporal_extent\u001b[49m\u001b[43m=\u001b[49m\u001b[43mtemporal_extent\u001b[49m\u001b[43m,\u001b[49m\n\u001b[32m   1155\u001b[39m \u001b[43m        \u001b[49m\u001b[43mbands\u001b[49m\u001b[43m=\u001b[49m\u001b[43mbands\u001b[49m\u001b[43m,\u001b[49m\n\u001b[32m   1156\u001b[39m \u001b[43m        \u001b[49m\u001b[43mproperties\u001b[49m\u001b[43m=\u001b[49m\u001b[43mproperties\u001b[49m\u001b[43m,\u001b[49m\n\u001b[32m   1157\u001b[39m \u001b[43m        \u001b[49m\u001b[43mmax_cloud_cover\u001b[49m\u001b[43m=\u001b[49m\u001b[43mmax_cloud_cover\u001b[49m\u001b[43m,\u001b[49m\n\u001b[32m   1158\u001b[39m \u001b[43m        \u001b[49m\u001b[43mfetch_metadata\u001b[49m\u001b[43m=\u001b[49m\u001b[43mfetch_metadata\u001b[49m\u001b[43m,\u001b[49m\n\u001b[32m   1159\u001b[39m \u001b[43m    \u001b[49m\u001b[43m)\u001b[49m\n",
      "\u001b[36mFile \u001b[39m\u001b[32mc:\\Users\\memor\\Desktop\\my_projects\\cassini_hackathon\\venv\\Lib\\site-packages\\openeo\\rest\\datacube.py:242\u001b[39m, in \u001b[36mDataCube.load_collection\u001b[39m\u001b[34m(cls, collection_id, connection, spatial_extent, temporal_extent, bands, fetch_metadata, properties, max_cloud_cover)\u001b[39m\n\u001b[32m    239\u001b[39m \u001b[38;5;28;01mif\u001b[39;00m \u001b[38;5;28misinstance\u001b[39m(collection_id, Parameter):\n\u001b[32m    240\u001b[39m     fetch_metadata = \u001b[38;5;28;01mFalse\u001b[39;00m\n\u001b[32m    241\u001b[39m metadata: Optional[CollectionMetadata] = (\n\u001b[32m--> \u001b[39m\u001b[32m242\u001b[39m     \u001b[43mconnection\u001b[49m\u001b[43m.\u001b[49m\u001b[43mcollection_metadata\u001b[49m\u001b[43m(\u001b[49m\u001b[43mcollection_id\u001b[49m\u001b[43m)\u001b[49m \u001b[38;5;28;01mif\u001b[39;00m connection \u001b[38;5;129;01mand\u001b[39;00m fetch_metadata \u001b[38;5;28;01melse\u001b[39;00m \u001b[38;5;28;01mNone\u001b[39;00m\n\u001b[32m    243\u001b[39m )\n\u001b[32m    244\u001b[39m \u001b[38;5;28;01mif\u001b[39;00m bands \u001b[38;5;129;01mis\u001b[39;00m \u001b[38;5;129;01mnot\u001b[39;00m \u001b[38;5;28;01mNone\u001b[39;00m:\n\u001b[32m    245\u001b[39m     bands = \u001b[38;5;28mcls\u001b[39m._get_bands(bands, process_id=\u001b[33m\"\u001b[39m\u001b[33mload_collection\u001b[39m\u001b[33m\"\u001b[39m)\n",
      "\u001b[36mFile \u001b[39m\u001b[32mc:\\Users\\memor\\Desktop\\my_projects\\cassini_hackathon\\venv\\Lib\\site-packages\\openeo\\rest\\connection.py:851\u001b[39m, in \u001b[36mConnection.collection_metadata\u001b[39m\u001b[34m(self, name)\u001b[39m\n\u001b[32m    849\u001b[39m \u001b[38;5;28;01mdef\u001b[39;00m\u001b[38;5;250m \u001b[39m\u001b[34mcollection_metadata\u001b[39m(\u001b[38;5;28mself\u001b[39m, name) -> CollectionMetadata:\n\u001b[32m    850\u001b[39m     \u001b[38;5;66;03m# TODO: duplication with `Connection.describe_collection`: deprecate one or the other?\u001b[39;00m\n\u001b[32m--> \u001b[39m\u001b[32m851\u001b[39m     \u001b[38;5;28;01mreturn\u001b[39;00m CollectionMetadata(metadata=\u001b[38;5;28;43mself\u001b[39;49m\u001b[43m.\u001b[49m\u001b[43mdescribe_collection\u001b[49m\u001b[43m(\u001b[49m\u001b[43mname\u001b[49m\u001b[43m)\u001b[49m)\n",
      "\u001b[36mFile \u001b[39m\u001b[32mc:\\Users\\memor\\Desktop\\my_projects\\cassini_hackathon\\venv\\Lib\\site-packages\\openeo\\rest\\connection.py:808\u001b[39m, in \u001b[36mConnection.describe_collection\u001b[39m\u001b[34m(self, collection_id)\u001b[39m\n\u001b[32m    795\u001b[39m \u001b[38;5;250m\u001b[39m\u001b[33;03m\"\"\"\u001b[39;00m\n\u001b[32m    796\u001b[39m \u001b[33;03mGet full collection metadata for given collection id.\u001b[39;00m\n\u001b[32m    797\u001b[39m \n\u001b[32m   (...)\u001b[39m\u001b[32m    804\u001b[39m \u001b[33;03m:return: collection metadata.\u001b[39;00m\n\u001b[32m    805\u001b[39m \u001b[33;03m\"\"\"\u001b[39;00m\n\u001b[32m    806\u001b[39m \u001b[38;5;66;03m# TODO: duplication with `Connection.collection_metadata`: deprecate one or the other?\u001b[39;00m\n\u001b[32m    807\u001b[39m \u001b[38;5;66;03m# TODO: add caching #383\u001b[39;00m\n\u001b[32m--> \u001b[39m\u001b[32m808\u001b[39m data = \u001b[38;5;28;43mself\u001b[39;49m\u001b[43m.\u001b[49m\u001b[43mget\u001b[49m\u001b[43m(\u001b[49m\u001b[33;43mf\u001b[39;49m\u001b[33;43m\"\u001b[39;49m\u001b[33;43m/collections/\u001b[39;49m\u001b[38;5;132;43;01m{\u001b[39;49;00m\u001b[43mcollection_id\u001b[49m\u001b[38;5;132;43;01m}\u001b[39;49;00m\u001b[33;43m\"\u001b[39;49m\u001b[43m,\u001b[49m\u001b[43m \u001b[49m\u001b[43mexpected_status\u001b[49m\u001b[43m=\u001b[49m\u001b[32;43m200\u001b[39;49m\u001b[43m)\u001b[49m.json()\n\u001b[32m    809\u001b[39m \u001b[38;5;28;01mreturn\u001b[39;00m VisualDict(\u001b[33m\"\u001b[39m\u001b[33mcollection\u001b[39m\u001b[33m\"\u001b[39m, data=data)\n",
      "\u001b[36mFile \u001b[39m\u001b[32mc:\\Users\\memor\\Desktop\\my_projects\\cassini_hackathon\\venv\\Lib\\site-packages\\openeo\\rest\\_connection.py:195\u001b[39m, in \u001b[36mRestApiConnection.get\u001b[39m\u001b[34m(self, path, params, stream, auth, **kwargs)\u001b[39m\n\u001b[32m    177\u001b[39m \u001b[38;5;28;01mdef\u001b[39;00m\u001b[38;5;250m \u001b[39m\u001b[34mget\u001b[39m(\n\u001b[32m    178\u001b[39m     \u001b[38;5;28mself\u001b[39m,\n\u001b[32m    179\u001b[39m     path: \u001b[38;5;28mstr\u001b[39m,\n\u001b[32m   (...)\u001b[39m\u001b[32m    184\u001b[39m     **kwargs,\n\u001b[32m    185\u001b[39m ) -> Response:\n\u001b[32m    186\u001b[39m \u001b[38;5;250m    \u001b[39m\u001b[33;03m\"\"\"\u001b[39;00m\n\u001b[32m    187\u001b[39m \u001b[33;03m    Do GET request to REST API.\u001b[39;00m\n\u001b[32m    188\u001b[39m \n\u001b[32m   (...)\u001b[39m\u001b[32m    193\u001b[39m \u001b[33;03m    :return: response: Response\u001b[39;00m\n\u001b[32m    194\u001b[39m \u001b[33;03m    \"\"\"\u001b[39;00m\n\u001b[32m--> \u001b[39m\u001b[32m195\u001b[39m     \u001b[38;5;28;01mreturn\u001b[39;00m \u001b[38;5;28;43mself\u001b[39;49m\u001b[43m.\u001b[49m\u001b[43mrequest\u001b[49m\u001b[43m(\u001b[49m\u001b[33;43m\"\u001b[39;49m\u001b[33;43mget\u001b[39;49m\u001b[33;43m\"\u001b[39;49m\u001b[43m,\u001b[49m\u001b[43m \u001b[49m\u001b[43mpath\u001b[49m\u001b[43m=\u001b[49m\u001b[43mpath\u001b[49m\u001b[43m,\u001b[49m\u001b[43m \u001b[49m\u001b[43mparams\u001b[49m\u001b[43m=\u001b[49m\u001b[43mparams\u001b[49m\u001b[43m,\u001b[49m\u001b[43m \u001b[49m\u001b[43mstream\u001b[49m\u001b[43m=\u001b[49m\u001b[43mstream\u001b[49m\u001b[43m,\u001b[49m\u001b[43m \u001b[49m\u001b[43mauth\u001b[49m\u001b[43m=\u001b[49m\u001b[43mauth\u001b[49m\u001b[43m,\u001b[49m\u001b[43m \u001b[49m\u001b[43m*\u001b[49m\u001b[43m*\u001b[49m\u001b[43mkwargs\u001b[49m\u001b[43m)\u001b[49m\n",
      "\u001b[36mFile \u001b[39m\u001b[32mc:\\Users\\memor\\Desktop\\my_projects\\cassini_hackathon\\venv\\Lib\\site-packages\\openeo\\rest\\connection.py:664\u001b[39m, in \u001b[36mConnection.request\u001b[39m\u001b[34m(self, method, path, headers, auth, check_error, expected_status, **kwargs)\u001b[39m\n\u001b[32m    657\u001b[39m     \u001b[38;5;28;01mreturn\u001b[39;00m \u001b[38;5;28msuper\u001b[39m(Connection, \u001b[38;5;28mself\u001b[39m).request(\n\u001b[32m    658\u001b[39m         method=method, path=path, headers=headers, auth=auth,\n\u001b[32m    659\u001b[39m         check_error=check_error, expected_status=expected_status, **kwargs,\n\u001b[32m    660\u001b[39m     )\n\u001b[32m    662\u001b[39m \u001b[38;5;28;01mtry\u001b[39;00m:\n\u001b[32m    663\u001b[39m     \u001b[38;5;66;03m# Initial request attempt\u001b[39;00m\n\u001b[32m--> \u001b[39m\u001b[32m664\u001b[39m     \u001b[38;5;28;01mreturn\u001b[39;00m \u001b[43m_request\u001b[49m\u001b[43m(\u001b[49m\u001b[43m)\u001b[49m\n\u001b[32m    665\u001b[39m \u001b[38;5;28;01mexcept\u001b[39;00m OpenEoApiError \u001b[38;5;28;01mas\u001b[39;00m api_exc:\n\u001b[32m    666\u001b[39m     \u001b[38;5;28;01mif\u001b[39;00m api_exc.http_status_code \u001b[38;5;129;01min\u001b[39;00m {\u001b[32m401\u001b[39m, \u001b[32m403\u001b[39m} \u001b[38;5;129;01mand\u001b[39;00m api_exc.code == \u001b[33m\"\u001b[39m\u001b[33mTokenInvalid\u001b[39m\u001b[33m\"\u001b[39m:\n\u001b[32m    667\u001b[39m         \u001b[38;5;66;03m# Auth token expired: can we refresh?\u001b[39;00m\n",
      "\u001b[36mFile \u001b[39m\u001b[32mc:\\Users\\memor\\Desktop\\my_projects\\cassini_hackathon\\venv\\Lib\\site-packages\\openeo\\rest\\connection.py:657\u001b[39m, in \u001b[36mConnection.request.<locals>._request\u001b[39m\u001b[34m()\u001b[39m\n\u001b[32m    656\u001b[39m \u001b[38;5;28;01mdef\u001b[39;00m\u001b[38;5;250m \u001b[39m\u001b[34m_request\u001b[39m():\n\u001b[32m--> \u001b[39m\u001b[32m657\u001b[39m     \u001b[38;5;28;01mreturn\u001b[39;00m \u001b[38;5;28;43msuper\u001b[39;49m\u001b[43m(\u001b[49m\u001b[43mConnection\u001b[49m\u001b[43m,\u001b[49m\u001b[43m \u001b[49m\u001b[38;5;28;43mself\u001b[39;49m\u001b[43m)\u001b[49m\u001b[43m.\u001b[49m\u001b[43mrequest\u001b[49m\u001b[43m(\u001b[49m\n\u001b[32m    658\u001b[39m \u001b[43m        \u001b[49m\u001b[43mmethod\u001b[49m\u001b[43m=\u001b[49m\u001b[43mmethod\u001b[49m\u001b[43m,\u001b[49m\u001b[43m \u001b[49m\u001b[43mpath\u001b[49m\u001b[43m=\u001b[49m\u001b[43mpath\u001b[49m\u001b[43m,\u001b[49m\u001b[43m \u001b[49m\u001b[43mheaders\u001b[49m\u001b[43m=\u001b[49m\u001b[43mheaders\u001b[49m\u001b[43m,\u001b[49m\u001b[43m \u001b[49m\u001b[43mauth\u001b[49m\u001b[43m=\u001b[49m\u001b[43mauth\u001b[49m\u001b[43m,\u001b[49m\n\u001b[32m    659\u001b[39m \u001b[43m        \u001b[49m\u001b[43mcheck_error\u001b[49m\u001b[43m=\u001b[49m\u001b[43mcheck_error\u001b[49m\u001b[43m,\u001b[49m\u001b[43m \u001b[49m\u001b[43mexpected_status\u001b[49m\u001b[43m=\u001b[49m\u001b[43mexpected_status\u001b[49m\u001b[43m,\u001b[49m\u001b[43m \u001b[49m\u001b[43m*\u001b[49m\u001b[43m*\u001b[49m\u001b[43mkwargs\u001b[49m\u001b[43m,\u001b[49m\n\u001b[32m    660\u001b[39m \u001b[43m    \u001b[49m\u001b[43m)\u001b[49m\n",
      "\u001b[36mFile \u001b[39m\u001b[32mc:\\Users\\memor\\Desktop\\my_projects\\cassini_hackathon\\venv\\Lib\\site-packages\\openeo\\rest\\_connection.py:132\u001b[39m, in \u001b[36mRestApiConnection.request\u001b[39m\u001b[34m(self, method, path, params, headers, auth, check_error, expected_status, **kwargs)\u001b[39m\n\u001b[32m    130\u001b[39m expected_status = ensure_list(expected_status) \u001b[38;5;28;01mif\u001b[39;00m expected_status \u001b[38;5;28;01melse\u001b[39;00m []\n\u001b[32m    131\u001b[39m \u001b[38;5;28;01mif\u001b[39;00m check_error \u001b[38;5;129;01mand\u001b[39;00m status >= \u001b[32m400\u001b[39m \u001b[38;5;129;01mand\u001b[39;00m status \u001b[38;5;129;01mnot\u001b[39;00m \u001b[38;5;129;01min\u001b[39;00m expected_status:\n\u001b[32m--> \u001b[39m\u001b[32m132\u001b[39m     \u001b[38;5;28;43mself\u001b[39;49m\u001b[43m.\u001b[49m\u001b[43m_raise_api_error\u001b[49m\u001b[43m(\u001b[49m\u001b[43mresp\u001b[49m\u001b[43m)\u001b[49m\n\u001b[32m    133\u001b[39m \u001b[38;5;28;01mif\u001b[39;00m expected_status \u001b[38;5;129;01mand\u001b[39;00m status \u001b[38;5;129;01mnot\u001b[39;00m \u001b[38;5;129;01min\u001b[39;00m expected_status:\n\u001b[32m    134\u001b[39m     \u001b[38;5;28;01mraise\u001b[39;00m OpenEoRestError(\n\u001b[32m    135\u001b[39m         \u001b[33m\"\u001b[39m\u001b[33mGot status code \u001b[39m\u001b[38;5;132;01m{s!r}\u001b[39;00m\u001b[33m for `\u001b[39m\u001b[38;5;132;01m{m}\u001b[39;00m\u001b[33m \u001b[39m\u001b[38;5;132;01m{p}\u001b[39;00m\u001b[33m` (expected \u001b[39m\u001b[38;5;132;01m{e!r}\u001b[39;00m\u001b[33m) with body \u001b[39m\u001b[38;5;132;01m{body}\u001b[39;00m\u001b[33m\"\u001b[39m.format(\n\u001b[32m    136\u001b[39m             m=method.upper(), p=path, s=status, e=expected_status, body=resp.text\n\u001b[32m    137\u001b[39m         )\n\u001b[32m    138\u001b[39m     )\n",
      "\u001b[36mFile \u001b[39m\u001b[32mc:\\Users\\memor\\Desktop\\my_projects\\cassini_hackathon\\venv\\Lib\\site-packages\\openeo\\rest\\_connection.py:154\u001b[39m, in \u001b[36mRestApiConnection._raise_api_error\u001b[39m\u001b[34m(self, response)\u001b[39m\n\u001b[32m    152\u001b[39m     error_message = info.get(\u001b[33m\"\u001b[39m\u001b[33mmessage\u001b[39m\u001b[33m\"\u001b[39m)\n\u001b[32m    153\u001b[39m     \u001b[38;5;28;01mif\u001b[39;00m error_code \u001b[38;5;129;01mand\u001b[39;00m \u001b[38;5;28misinstance\u001b[39m(error_code, \u001b[38;5;28mstr\u001b[39m) \u001b[38;5;129;01mand\u001b[39;00m error_message \u001b[38;5;129;01mand\u001b[39;00m \u001b[38;5;28misinstance\u001b[39m(error_message, \u001b[38;5;28mstr\u001b[39m):\n\u001b[32m--> \u001b[39m\u001b[32m154\u001b[39m         \u001b[38;5;28;01mraise\u001b[39;00m OpenEoApiError(\n\u001b[32m    155\u001b[39m             http_status_code=status_code,\n\u001b[32m    156\u001b[39m             code=error_code,\n\u001b[32m    157\u001b[39m             message=error_message,\n\u001b[32m    158\u001b[39m             \u001b[38;5;28mid\u001b[39m=info.get(\u001b[33m\"\u001b[39m\u001b[33mid\u001b[39m\u001b[33m\"\u001b[39m),\n\u001b[32m    159\u001b[39m             url=info.get(\u001b[33m\"\u001b[39m\u001b[33murl\u001b[39m\u001b[33m\"\u001b[39m),\n\u001b[32m    160\u001b[39m         )\n\u001b[32m    162\u001b[39m \u001b[38;5;66;03m# Failed to parse it as a compliant openEO API error: show body as-is in the exception.\u001b[39;00m\n\u001b[32m    163\u001b[39m text = response.text\n",
      "\u001b[31mOpenEoApiError\u001b[39m: [404] CollectionNotFound: Collection 'MSWX_3H' does not exist. (ref: r-2505180736024b53926a410bc3bf9428)"
     ]
    }
   ],
   "source": [
    "import openeo, datetime\n",
    "from openeo.processes import *\n",
    "\n",
    "# Connect & authenticate (OIDC in browser)\n",
    "conn = openeo.connect(\"openeo.cloud\").authenticate_oidc()\n",
    "\n",
    "# AOI & period\n",
    "bbox   = {\"west\": -1.2, \"east\": -0.6, \"south\": 39.2, \"north\": 39.8}\n",
    "start, end = \"2024-09-01\", \"2024-10-01\"\n",
    "\n",
    "# 1) 3-hourly precipitation cube (MSWX)\n",
    "pr = conn.load_collection(\n",
    "        \"MSWX_3H\",\n",
    "        spatial_extent=bbox,\n",
    "        temporal_extent=[start, end],\n",
    "        bands=[\"precipitation\"]\n",
    ")\n",
    "\n",
    "# aggregate to daily totals\n",
    "daily_pr = pr.aggregate_temporal_period(\"day\", reducer=sum)\n",
    "\n",
    "# 2) Binary flood extent from GFM (Sentinel-1 ensemble)\n",
    "flood = conn.load_collection(\n",
    "        \"GFM\",\n",
    "        spatial_extent=bbox,\n",
    "        temporal_extent=[start, end],\n",
    "        bands=[\"ensemble_flood_extent\"]\n",
    ").reduce_dimension(dimension=\"t\", reducer=any)\n",
    "\n",
    "# 3) Stack and export\n",
    "cube = daily_pr.add_dimension(dimension=\"bands\", label=\"precip\") \\\n",
    "               .merge_cubes(flood.rename_labels(\"bands\", [\"ensemble_flood_extent\"], [\"flood\"]))\n",
    "\n",
    "cube.save_result(format=\"GTiff\", options={\"tile_grid\": \"wgs84-1degree\"})\n"
   ]
  },
  {
   "cell_type": "code",
   "execution_count": 7,
   "id": "049be025",
   "metadata": {},
   "outputs": [
    {
     "name": "stdout",
     "output_type": "stream",
     "text": [
      "Authenticated using refresh token.\n"
     ]
    },
    {
     "ename": "ValueError",
     "evalue": "Invalid band name/index 'precipitation'. Valid names: ['dewpoint-temperature', 'precipitation-flux', 'solar-radiation-flux', 'temperature-max', 'temperature-mean', 'temperature-min', 'vapour-pressure', 'wind-speed']",
     "output_type": "error",
     "traceback": [
      "\u001b[31m---------------------------------------------------------------------------\u001b[39m",
      "\u001b[31mValueError\u001b[39m                                Traceback (most recent call last)",
      "\u001b[36mCell\u001b[39m\u001b[36m \u001b[39m\u001b[32mIn[7]\u001b[39m\u001b[32m, line 10\u001b[39m\n\u001b[32m      7\u001b[39m period = [\u001b[33m\"\u001b[39m\u001b[33m2024-09-01\u001b[39m\u001b[33m\"\u001b[39m, \u001b[33m\"\u001b[39m\u001b[33m2024-10-01\u001b[39m\u001b[33m\"\u001b[39m]\n\u001b[32m      9\u001b[39m \u001b[38;5;66;03m# (1)  daily precip totals from AgERA5\u001b[39;00m\n\u001b[32m---> \u001b[39m\u001b[32m10\u001b[39m pr = (\u001b[43mconn\u001b[49m\u001b[43m.\u001b[49m\u001b[43mload_collection\u001b[49m\u001b[43m(\u001b[49m\u001b[33;43m\"\u001b[39;49m\u001b[33;43mAGERA5\u001b[39;49m\u001b[33;43m\"\u001b[39;49m\u001b[43m,\u001b[49m\n\u001b[32m     11\u001b[39m \u001b[43m        \u001b[49m\u001b[43mspatial_extent\u001b[49m\u001b[43m=\u001b[49m\u001b[43mbbox\u001b[49m\u001b[43m,\u001b[49m\n\u001b[32m     12\u001b[39m \u001b[43m        \u001b[49m\u001b[43mtemporal_extent\u001b[49m\u001b[43m=\u001b[49m\u001b[43mperiod\u001b[49m\u001b[43m,\u001b[49m\n\u001b[32m     13\u001b[39m \u001b[43m        \u001b[49m\u001b[43mbands\u001b[49m\u001b[43m=\u001b[49m\u001b[43m[\u001b[49m\u001b[33;43m\"\u001b[39;49m\u001b[33;43mprecipitation\u001b[39;49m\u001b[33;43m\"\u001b[39;49m\u001b[43m]\u001b[49m\u001b[43m)\u001b[49m\n\u001b[32m     14\u001b[39m       .aggregate_temporal_period(\u001b[33m\"\u001b[39m\u001b[33mday\u001b[39m\u001b[33m\"\u001b[39m, reducer=\u001b[33m\"\u001b[39m\u001b[33msum\u001b[39m\u001b[33m\"\u001b[39m))\n\u001b[32m     16\u001b[39m \u001b[38;5;66;03m# (2)  NRT flood extent (Sentinel-1 ensemble)\u001b[39;00m\n\u001b[32m     17\u001b[39m flood = (conn.load_collection(\u001b[33m\"\u001b[39m\u001b[33mGFM\u001b[39m\u001b[33m\"\u001b[39m,\n\u001b[32m     18\u001b[39m          spatial_extent=bbox,\n\u001b[32m     19\u001b[39m          temporal_extent=period,\n\u001b[32m     20\u001b[39m          bands=[\u001b[33m\"\u001b[39m\u001b[33mensemble_flood_extent\u001b[39m\u001b[33m\"\u001b[39m])\n\u001b[32m     21\u001b[39m          .reduce_dimension(\u001b[33m\"\u001b[39m\u001b[33mt\u001b[39m\u001b[33m\"\u001b[39m, reducer=\u001b[33m\"\u001b[39m\u001b[33many\u001b[39m\u001b[33m\"\u001b[39m))\n",
      "\u001b[36mFile \u001b[39m\u001b[32mc:\\Users\\memor\\Desktop\\my_projects\\cassini_hackathon\\venv\\Lib\\site-packages\\openeo\\rest\\connection.py:1150\u001b[39m, in \u001b[36mConnection.load_collection\u001b[39m\u001b[34m(self, collection_id, spatial_extent, temporal_extent, bands, properties, max_cloud_cover, fetch_metadata)\u001b[39m\n\u001b[32m   1101\u001b[39m \u001b[38;5;129m@openeo_process\u001b[39m\n\u001b[32m   1102\u001b[39m \u001b[38;5;28;01mdef\u001b[39;00m\u001b[38;5;250m \u001b[39m\u001b[34mload_collection\u001b[39m(\n\u001b[32m   1103\u001b[39m     \u001b[38;5;28mself\u001b[39m,\n\u001b[32m   (...)\u001b[39m\u001b[32m   1112\u001b[39m     fetch_metadata: \u001b[38;5;28mbool\u001b[39m = \u001b[38;5;28;01mTrue\u001b[39;00m,\n\u001b[32m   1113\u001b[39m ) -> DataCube:\n\u001b[32m   1114\u001b[39m \u001b[38;5;250m    \u001b[39m\u001b[33;03m\"\"\"\u001b[39;00m\n\u001b[32m   1115\u001b[39m \u001b[33;03m    Load a DataCube by collection id.\u001b[39;00m\n\u001b[32m   1116\u001b[39m \n\u001b[32m   (...)\u001b[39m\u001b[32m   1148\u001b[39m \u001b[33;03m        Argument ``spatial_extent``: add support for passing a Shapely geometry or a local path to a GeoJSON file.\u001b[39;00m\n\u001b[32m   1149\u001b[39m \u001b[33;03m    \"\"\"\u001b[39;00m\n\u001b[32m-> \u001b[39m\u001b[32m1150\u001b[39m     \u001b[38;5;28;01mreturn\u001b[39;00m \u001b[43mDataCube\u001b[49m\u001b[43m.\u001b[49m\u001b[43mload_collection\u001b[49m\u001b[43m(\u001b[49m\n\u001b[32m   1151\u001b[39m \u001b[43m        \u001b[49m\u001b[43mcollection_id\u001b[49m\u001b[43m=\u001b[49m\u001b[43mcollection_id\u001b[49m\u001b[43m,\u001b[49m\n\u001b[32m   1152\u001b[39m \u001b[43m        \u001b[49m\u001b[43mconnection\u001b[49m\u001b[43m=\u001b[49m\u001b[38;5;28;43mself\u001b[39;49m\u001b[43m,\u001b[49m\n\u001b[32m   1153\u001b[39m \u001b[43m        \u001b[49m\u001b[43mspatial_extent\u001b[49m\u001b[43m=\u001b[49m\u001b[43mspatial_extent\u001b[49m\u001b[43m,\u001b[49m\n\u001b[32m   1154\u001b[39m \u001b[43m        \u001b[49m\u001b[43mtemporal_extent\u001b[49m\u001b[43m=\u001b[49m\u001b[43mtemporal_extent\u001b[49m\u001b[43m,\u001b[49m\n\u001b[32m   1155\u001b[39m \u001b[43m        \u001b[49m\u001b[43mbands\u001b[49m\u001b[43m=\u001b[49m\u001b[43mbands\u001b[49m\u001b[43m,\u001b[49m\n\u001b[32m   1156\u001b[39m \u001b[43m        \u001b[49m\u001b[43mproperties\u001b[49m\u001b[43m=\u001b[49m\u001b[43mproperties\u001b[49m\u001b[43m,\u001b[49m\n\u001b[32m   1157\u001b[39m \u001b[43m        \u001b[49m\u001b[43mmax_cloud_cover\u001b[49m\u001b[43m=\u001b[49m\u001b[43mmax_cloud_cover\u001b[49m\u001b[43m,\u001b[49m\n\u001b[32m   1158\u001b[39m \u001b[43m        \u001b[49m\u001b[43mfetch_metadata\u001b[49m\u001b[43m=\u001b[49m\u001b[43mfetch_metadata\u001b[49m\u001b[43m,\u001b[49m\n\u001b[32m   1159\u001b[39m \u001b[43m    \u001b[49m\u001b[43m)\u001b[49m\n",
      "\u001b[36mFile \u001b[39m\u001b[32mc:\\Users\\memor\\Desktop\\my_projects\\cassini_hackathon\\venv\\Lib\\site-packages\\openeo\\rest\\datacube.py:251\u001b[39m, in \u001b[36mDataCube.load_collection\u001b[39m\u001b[34m(cls, collection_id, connection, spatial_extent, temporal_extent, bands, fetch_metadata, properties, max_cloud_cover)\u001b[39m\n\u001b[32m    249\u001b[39m         bands = [b \u001b[38;5;28;01mif\u001b[39;00m \u001b[38;5;28misinstance\u001b[39m(b, \u001b[38;5;28mstr\u001b[39m) \u001b[38;5;28;01melse\u001b[39;00m metadata.band_dimension.band_name(b) \u001b[38;5;28;01mfor\u001b[39;00m b \u001b[38;5;129;01min\u001b[39;00m bands]\n\u001b[32m    250\u001b[39m         \u001b[38;5;66;03m# TODO: also apply spatial/temporal filters to metadata?\u001b[39;00m\n\u001b[32m--> \u001b[39m\u001b[32m251\u001b[39m         metadata = \u001b[43mmetadata\u001b[49m\u001b[43m.\u001b[49m\u001b[43mfilter_bands\u001b[49m\u001b[43m(\u001b[49m\u001b[43mbands\u001b[49m\u001b[43m)\u001b[49m\n\u001b[32m    252\u001b[39m     arguments[\u001b[33m'\u001b[39m\u001b[33mbands\u001b[39m\u001b[33m'\u001b[39m] = bands\n\u001b[32m    254\u001b[39m properties = \u001b[38;5;28mcls\u001b[39m._build_load_properties_argument(\n\u001b[32m    255\u001b[39m     properties=properties,\n\u001b[32m    256\u001b[39m     supported_properties=(metadata.get(\u001b[33m\"\u001b[39m\u001b[33msummaries\u001b[39m\u001b[33m\"\u001b[39m, default={}).keys() \u001b[38;5;28;01mif\u001b[39;00m metadata \u001b[38;5;28;01melse\u001b[39;00m \u001b[38;5;28;01mNone\u001b[39;00m),\n\u001b[32m    257\u001b[39m     max_cloud_cover=max_cloud_cover,\n\u001b[32m    258\u001b[39m )\n",
      "\u001b[36mFile \u001b[39m\u001b[32mc:\\Users\\memor\\Desktop\\my_projects\\cassini_hackathon\\venv\\Lib\\site-packages\\openeo\\metadata.py:355\u001b[39m, in \u001b[36mCubeMetadata.filter_bands\u001b[39m\u001b[34m(self, band_names)\u001b[39m\n\u001b[32m    348\u001b[39m \u001b[38;5;250m\u001b[39m\u001b[33;03m\"\"\"\u001b[39;00m\n\u001b[32m    349\u001b[39m \u001b[33;03mCreate new `CubeMetadata` with filtered band dimension\u001b[39;00m\n\u001b[32m    350\u001b[39m \u001b[33;03m:param band_names: list of band names/indices to keep\u001b[39;00m\n\u001b[32m    351\u001b[39m \u001b[33;03m:return:\u001b[39;00m\n\u001b[32m    352\u001b[39m \u001b[33;03m\"\"\"\u001b[39;00m\n\u001b[32m    353\u001b[39m \u001b[38;5;28;01massert\u001b[39;00m \u001b[38;5;28mself\u001b[39m.band_dimension\n\u001b[32m    354\u001b[39m \u001b[38;5;28;01mreturn\u001b[39;00m \u001b[38;5;28mself\u001b[39m._clone_and_update(\n\u001b[32m--> \u001b[39m\u001b[32m355\u001b[39m     dimensions=[\u001b[43md\u001b[49m\u001b[43m.\u001b[49m\u001b[43mfilter_bands\u001b[49m\u001b[43m(\u001b[49m\u001b[43mband_names\u001b[49m\u001b[43m)\u001b[49m \u001b[38;5;28;01mif\u001b[39;00m \u001b[38;5;28misinstance\u001b[39m(d, BandDimension) \u001b[38;5;28;01melse\u001b[39;00m d \u001b[38;5;28;01mfor\u001b[39;00m d \u001b[38;5;129;01min\u001b[39;00m \u001b[38;5;28mself\u001b[39m._dimensions]\n\u001b[32m    356\u001b[39m )\n",
      "\u001b[36mFile \u001b[39m\u001b[32mc:\\Users\\memor\\Desktop\\my_projects\\cassini_hackathon\\venv\\Lib\\site-packages\\openeo\\metadata.py:183\u001b[39m, in \u001b[36mBandDimension.filter_bands\u001b[39m\u001b[34m(self, bands)\u001b[39m\n\u001b[32m    176\u001b[39m \u001b[38;5;28;01mdef\u001b[39;00m\u001b[38;5;250m \u001b[39m\u001b[34mfilter_bands\u001b[39m(\u001b[38;5;28mself\u001b[39m, bands: List[Union[\u001b[38;5;28mint\u001b[39m, \u001b[38;5;28mstr\u001b[39m]]) -> BandDimension:\n\u001b[32m    177\u001b[39m \u001b[38;5;250m    \u001b[39m\u001b[33;03m\"\"\"\u001b[39;00m\n\u001b[32m    178\u001b[39m \u001b[33;03m    Construct new BandDimension with subset of bands,\u001b[39;00m\n\u001b[32m    179\u001b[39m \u001b[33;03m    based on given band indices or (common) names\u001b[39;00m\n\u001b[32m    180\u001b[39m \u001b[33;03m    \"\"\"\u001b[39;00m\n\u001b[32m    181\u001b[39m     \u001b[38;5;28;01mreturn\u001b[39;00m BandDimension(\n\u001b[32m    182\u001b[39m         name=\u001b[38;5;28mself\u001b[39m.name,\n\u001b[32m--> \u001b[39m\u001b[32m183\u001b[39m         bands=[\u001b[38;5;28mself\u001b[39m.bands[\u001b[38;5;28;43mself\u001b[39;49m\u001b[43m.\u001b[49m\u001b[43mband_index\u001b[49m\u001b[43m(\u001b[49m\u001b[43mb\u001b[49m\u001b[43m)\u001b[49m] \u001b[38;5;28;01mfor\u001b[39;00m b \u001b[38;5;129;01min\u001b[39;00m bands]\n\u001b[32m    184\u001b[39m     )\n",
      "\u001b[36mFile \u001b[39m\u001b[32mc:\\Users\\memor\\Desktop\\my_projects\\cassini_hackathon\\venv\\Lib\\site-packages\\openeo\\metadata.py:158\u001b[39m, in \u001b[36mBandDimension.band_index\u001b[39m\u001b[34m(self, band)\u001b[39m\n\u001b[32m    156\u001b[39m     \u001b[38;5;28;01mif\u001b[39;00m \u001b[38;5;28many\u001b[39m(aliases):\n\u001b[32m    157\u001b[39m         \u001b[38;5;28;01mreturn\u001b[39;00m aliases.index(\u001b[38;5;28;01mTrue\u001b[39;00m)\n\u001b[32m--> \u001b[39m\u001b[32m158\u001b[39m \u001b[38;5;28;01mraise\u001b[39;00m \u001b[38;5;167;01mValueError\u001b[39;00m(\u001b[33m\"\u001b[39m\u001b[33mInvalid band name/index \u001b[39m\u001b[38;5;132;01m{b!r}\u001b[39;00m\u001b[33m. Valid names: \u001b[39m\u001b[38;5;132;01m{n!r}\u001b[39;00m\u001b[33m\"\u001b[39m.format(b=band, n=band_names))\n",
      "\u001b[31mValueError\u001b[39m: Invalid band name/index 'precipitation'. Valid names: ['dewpoint-temperature', 'precipitation-flux', 'solar-radiation-flux', 'temperature-max', 'temperature-mean', 'temperature-min', 'vapour-pressure', 'wind-speed']"
     ]
    }
   ],
   "source": [
    "import openeo, datetime\n",
    "from openeo.processes import *\n",
    "\n",
    "conn = openeo.connect(\"openeo.cloud\").authenticate_oidc()\n",
    "\n",
    "bbox = {\"west\": -1.2, \"east\": -0.6, \"south\": 39.2, \"north\": 39.8}\n",
    "period = [\"2024-09-01\", \"2024-10-01\"]\n",
    "\n",
    "# (1)  daily precip totals from AgERA5\n",
    "pr = (conn.load_collection(\"AGERA5\",\n",
    "        spatial_extent=bbox,\n",
    "        temporal_extent=period,\n",
    "        bands=[\"precipitation\"])\n",
    "      .aggregate_temporal_period(\"day\", reducer=\"sum\"))\n",
    "\n",
    "# (2)  NRT flood extent (Sentinel-1 ensemble)\n",
    "flood = (conn.load_collection(\"GFM\",\n",
    "         spatial_extent=bbox,\n",
    "         temporal_extent=period,\n",
    "         bands=[\"ensemble_flood_extent\"])\n",
    "         .reduce_dimension(\"t\", reducer=\"any\"))\n",
    "\n",
    "# (3)  merge & save\n",
    "cube = pr.merge_cubes(flood.rename_labels(\"bands\", [\"ensemble_flood_extent\"], [\"flood\"]))\n",
    "cube.save_result(format=\"GTiff\", options={\"tile_grid\": \"wgs84-1degree\"})\n"
   ]
  }
 ],
 "metadata": {
  "kernelspec": {
   "display_name": "venv",
   "language": "python",
   "name": "python3"
  },
  "language_info": {
   "codemirror_mode": {
    "name": "ipython",
    "version": 3
   },
   "file_extension": ".py",
   "mimetype": "text/x-python",
   "name": "python",
   "nbconvert_exporter": "python",
   "pygments_lexer": "ipython3",
   "version": "3.12.6"
  }
 },
 "nbformat": 4,
 "nbformat_minor": 5
}
